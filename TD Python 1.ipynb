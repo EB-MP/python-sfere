{
 "cells": [
  {
   "cell_type": "markdown",
   "metadata": {
    "raw_mimetype": "text/markdown"
   },
   "source": [
    "# TD Python 1"
   ]
  },
  {
   "cell_type": "markdown",
   "metadata": {},
   "source": [
    "## Variables : affectation"
   ]
  },
  {
   "cell_type": "code",
   "execution_count": null,
   "metadata": {},
   "outputs": [],
   "source": [
    "a = 2.3\n",
    "b = 3*a + 5\n",
    "print(b)"
   ]
  },
  {
   "cell_type": "code",
   "execution_count": null,
   "metadata": {},
   "outputs": [],
   "source": [
    "a = 2.3\n",
    "b = 3*a + 5\n",
    "print(\"b\")"
   ]
  },
  {
   "cell_type": "code",
   "execution_count": null,
   "metadata": {},
   "outputs": [],
   "source": [
    "x = 5\n",
    "y = 3\n",
    "x = 3*x + 2*y\n",
    "y = 5*y - 12*x\n",
    "print(y)"
   ]
  },
  {
   "cell_type": "markdown",
   "metadata": {},
   "source": [
    "## Types numériques"
   ]
  },
  {
   "cell_type": "code",
   "execution_count": null,
   "metadata": {},
   "outputs": [],
   "source": [
    "a = 30\n",
    "b = a*2\n",
    "print(b)"
   ]
  },
  {
   "cell_type": "code",
   "execution_count": null,
   "metadata": {},
   "outputs": [],
   "source": [
    "a = 30\n",
    "b = a*2.0\n",
    "print(b)"
   ]
  },
  {
   "cell_type": "code",
   "execution_count": null,
   "metadata": {},
   "outputs": [],
   "source": [
    "a = 30\n",
    "print(a)\n",
    "a = a*2\n",
    "print(a)\n",
    "a = a/4\n",
    "print(a)\n",
    "a = a/2\n",
    "print(a)"
   ]
  },
  {
   "cell_type": "code",
   "execution_count": null,
   "metadata": {},
   "outputs": [],
   "source": [
    "a = 3\n",
    "b = a*2\n",
    "b = float(b)\n",
    "print(a)\n",
    "print(b)"
   ]
  },
  {
   "cell_type": "code",
   "execution_count": null,
   "metadata": {},
   "outputs": [],
   "source": [
    "a = 3\n",
    "b = a*2.6\n",
    "b = int(b)\n",
    "print(a)\n",
    "print(b)"
   ]
  },
  {
   "cell_type": "markdown",
   "metadata": {},
   "source": [
    "## Type alphanumérique (chaîne de caractères)"
   ]
  },
  {
   "cell_type": "code",
   "execution_count": null,
   "metadata": {},
   "outputs": [],
   "source": [
    "a = \"20\"\n",
    "print(a)\n",
    "a = a*2\n",
    "print(a)"
   ]
  },
  {
   "cell_type": "code",
   "execution_count": null,
   "metadata": {},
   "outputs": [],
   "source": [
    "a = \"3\"\n",
    "b = int(a)\n",
    "b = b*2\n",
    "print(b)"
   ]
  },
  {
   "cell_type": "code",
   "execution_count": null,
   "metadata": {},
   "outputs": [],
   "source": [
    "a = 3\n",
    "b = str(a)\n",
    "print(b)\n",
    "b = b*2\n",
    "print(b)"
   ]
  },
  {
   "cell_type": "code",
   "execution_count": null,
   "metadata": {},
   "outputs": [],
   "source": [
    "a = \"bonjour\"\n",
    "b = int(a)\n",
    "b = b*2\n",
    "print(b)"
   ]
  },
  {
   "cell_type": "markdown",
   "metadata": {},
   "source": [
    "## Entrées-sorties : print et input"
   ]
  },
  {
   "cell_type": "code",
   "execution_count": null,
   "metadata": {},
   "outputs": [],
   "source": [
    "nom = \"Bill\"\n",
    "print('Nous avons une question à poser')\n",
    "print()\n",
    "print('Est-ce que vous aimez faire de la cuisine, ' + nom + ' ?')\n",
    "reponse = input()\n",
    "print('Vous avez répondu ' + reponse + '!')\n",
    "print(\"En tous cas on va apprendre Python aujourd'hui\")"
   ]
  },
  {
   "cell_type": "markdown",
   "metadata": {},
   "source": [
    "## Un peu de tortue"
   ]
  },
  {
   "cell_type": "code",
   "execution_count": 3,
   "metadata": {},
   "outputs": [],
   "source": [
    "from turtle import *\n",
    "\n",
    "pencolor('red')\n",
    "forward(100)\n",
    "right(90)\n",
    "forward(100)\n",
    "right(90)\n",
    "forward(100)\n",
    "right(90)\n",
    "forward(100)\n",
    "exitonclick()"
   ]
  },
  {
   "cell_type": "markdown",
   "metadata": {},
   "source": [
    "> Voir le site : https://docs.python.org/3/library/turtle.html"
   ]
  },
  {
   "cell_type": "markdown",
   "metadata": {},
   "source": [
    "## Amélioration : utilisation d'une boucle"
   ]
  },
  {
   "cell_type": "code",
   "execution_count": 6,
   "metadata": {},
   "outputs": [],
   "source": [
    "pencolor('blue')\n",
    "for k in range(4):\n",
    "    forward(100)\n",
    "    right(90)\n",
    "exitonclick()"
   ]
  },
  {
   "attachments": {
    "image.png": {
     "image/png": "[encoded data removed]"
    }
   },
   "cell_type": "markdown",
   "metadata": {
    "slideshow": {
     "slide_type": "slide"
    }
   },
   "source": [
    "### Exercice\n",
    "Dessiner un triangle, un pentagone, un hexagone (utilisez la boucle ``for``).\n",
    "\n",
    "Avec plusieurs tailles, plusieurs couleurs.\n",
    "\n",
    "Essayez aussi d'obtenir l'image ci-dessous.\n",
    "![image.png](attachment:image.png)"
   ]
  },
  {
   "cell_type": "markdown",
   "metadata": {},
   "source": [
    "### Exploration de la boucle for\n",
    "La variable k est appelée *compteur*. On peut donner un autre nom que k."
   ]
  },
  {
   "cell_type": "code",
   "execution_count": null,
   "metadata": {},
   "outputs": [],
   "source": [
    "for k in range(5):\n",
    "    print(k)\n",
    "for k in range(1, 5):\n",
    "    print(k)\n",
    "for i in range(2, 8):\n",
    "    print(i)\n",
    "for j in range(1, 20, 3):\n",
    "    print(j)\n"
   ]
  },
  {
   "cell_type": "markdown",
   "metadata": {},
   "source": [
    "## Utilisation d'une fonction"
   ]
  },
  {
   "cell_type": "code",
   "execution_count": 7,
   "metadata": {},
   "outputs": [],
   "source": [
    "def carre():\n",
    "    for k in range(4):\n",
    "        forward(100)\n",
    "        right(90)\n",
    "\n",
    "carre() # on tracce un carré\n",
    "up() # lever le crayon\n",
    "fd(200)\n",
    "color('red') # changer de couleur\n",
    "down() # baisser le crayon\n",
    "carre() # un utre carré\n",
    "    \n",
    "exitonclick()"
   ]
  },
  {
   "cell_type": "markdown",
   "metadata": {},
   "source": [
    "**À retenir :**\n",
    "> On définit une fonction avec le mot-clé ``def``\n",
    ">\n",
    "> Une fonction permet de réutiliser un bout de programme"
   ]
  },
  {
   "attachments": {
    "image.png": {
     "image/png": "[encoded data removed]"
    }
   },
   "cell_type": "markdown",
   "metadata": {},
   "source": [
    "### Exercice\n",
    "Écrire une fonction ``triangle`` pour dessiner un triangle de côté 100 en rouge. Le point de départ sera \"pointe en bas\"\n",
    "\n",
    "Utilisez cette fonction pour obtenir un dessin similaire à celui-ci (utilisez une boucle si possible) :\n",
    "![image.png](attachment:image.png)"
   ]
  },
  {
   "cell_type": "markdown",
   "metadata": {},
   "source": [
    "### Amélioration de la fonction : régler la taille de la figure"
   ]
  },
  {
   "cell_type": "code",
   "execution_count": 13,
   "metadata": {},
   "outputs": [],
   "source": [
    "def carre(taille):\n",
    "    down()\n",
    "    for k in range(4):\n",
    "        fd(taille)\n",
    "        left(90)\n",
    "    up() # on lève le crayon quand le dessin est fini\n",
    "\n",
    "carre(50)\n",
    "fd(80)\n",
    "carre(100)\n",
    "left(45)\n",
    "color('red')\n",
    "fd(-150)\n",
    "carre(200)\n",
    "exitonclick()"
   ]
  },
  {
   "cell_type": "markdown",
   "metadata": {},
   "source": [
    "**À retenir :**\n",
    "> ``taille`` est appelé un ***paramètre*** de la fonction. Une fonction peut avoir plusieurs paramètres.\n",
    "\n",
    "### Exercice\n",
    "1. Écrire une fonction ``pentagone(taille)`` qui permet de tracer un pentagone dont la taille du côté est fournie. Utiliser cette fonction pour dessiner plusieurs pentagones de tailles différentes\n",
    "2. Écrire une fonction ``polygone(taille, nb_cotes)`` pour dessiner un polygone"
   ]
  },
  {
   "cell_type": "code",
   "execution_count": null,
   "metadata": {},
   "outputs": [],
   "source": [
    "def polygone(taille, nb_cotes):\n",
    "    # completer ici\n",
    "\n",
    "polygone(50, 3)\n",
    "polygone(100, 4)\n",
    "polygone(80, 12)"
   ]
  },
  {
   "attachments": {
    "image.png": {
     "image/png": "[encoded data removed]"
    }
   },
   "cell_type": "markdown",
   "metadata": {},
   "source": [
    "3. Écrire une fonction ``spirale(nb_segments)`` comme sur le dessin ci-dessous (`spirale(20)`)\n",
    "![image.png](attachment:image.png)\n",
    "Il faudra utiliser une boucle en tournant toujours du même angle (60° par exemple)"
   ]
  },
  {
   "cell_type": "code",
   "execution_count": null,
   "metadata": {},
   "outputs": [],
   "source": []
  }
 ],
 "metadata": {
  "celltoolbar": "Aucun(e)",
  "kernelspec": {
   "display_name": "Python 3",
   "language": "python",
   "name": "python3"
  },
  "language_info": {
   "codemirror_mode": {
    "name": "ipython",
    "version": 3
   },
   "file_extension": ".py",
   "mimetype": "text/x-python",
   "name": "python",
   "nbconvert_exporter": "python",
   "pygments_lexer": "ipython3",
   "version": "3.8.3"
  }
 },
 "nbformat": 4,
 "nbformat_minor": 4
}
